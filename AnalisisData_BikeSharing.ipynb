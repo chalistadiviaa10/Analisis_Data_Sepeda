{
 "cells": [
  {
   "cell_type": "markdown",
   "metadata": {
    "id": "H9wADwK78DCz"
   },
   "source": [
    "# Proyek Analisis Data: Bike Sharing Dataset\n",
    "- **Nama:** Chalista Divia Maharani Djuanda\n",
    "- **Email:** m312b4kx0915@bangkit.academy\n",
    "- **ID Dicoding:** chalista_divia"
   ]
  },
  {
   "cell_type": "markdown",
   "metadata": {
    "id": "eE0raob58DC0"
   },
   "source": [
    "## Menentukan Pertanyaan Bisnis"
   ]
  },
  {
   "cell_type": "markdown",
   "metadata": {
    "id": "GmQeQ5YF8DC0"
   },
   "source": [
    "- Dalam kurun waktu satu minggu, pada jam berapa penyewaan sepeda mencapai puncaknya setiap hari?\n",
    "- Berapa persentase perbandingan rata-rata jumlah penyewaan sepeda antara hari libur dan hari kerja pada tahun 2011?\n",
    "- Apa pola musiman dalam penggunaan sepeda selama tahun 2012 dan bagaimana faktor cuaca berpengaruh terhadap tren penggunaan tersebut?"
   ]
  },
  {
   "cell_type": "markdown",
   "metadata": {
    "id": "H-z4QGlO8DC1"
   },
   "source": [
    "## Import Semua Packages/Library yang Digunakan"
   ]
  },
  {
   "cell_type": "code",
   "execution_count": 22,
   "metadata": {
    "id": "FVYwaObI8DC1"
   },
   "outputs": [],
   "source": [
    "import pandas as pd\n",
    "import matplotlib.pyplot as plt\n",
    "import seaborn as sns"
   ]
  },
  {
   "cell_type": "markdown",
   "metadata": {
    "id": "h_Sh51Xy8DC1"
   },
   "source": [
    "## Data Wrangling"
   ]
  },
  {
   "cell_type": "markdown",
   "metadata": {
    "id": "sXU2GBYu8DC1"
   },
   "source": [
    "### Gathering Data"
   ]
  },
  {
   "cell_type": "code",
   "execution_count": 23,
   "metadata": {
    "id": "zjCBk1BI8DC1"
   },
   "outputs": [
    {
     "data": {
      "text/html": [
       "<div>\n",
       "<style scoped>\n",
       "    .dataframe tbody tr th:only-of-type {\n",
       "        vertical-align: middle;\n",
       "    }\n",
       "\n",
       "    .dataframe tbody tr th {\n",
       "        vertical-align: top;\n",
       "    }\n",
       "\n",
       "    .dataframe thead th {\n",
       "        text-align: right;\n",
       "    }\n",
       "</style>\n",
       "<table border=\"1\" class=\"dataframe\">\n",
       "  <thead>\n",
       "    <tr style=\"text-align: right;\">\n",
       "      <th></th>\n",
       "      <th>instant</th>\n",
       "      <th>dteday</th>\n",
       "      <th>season</th>\n",
       "      <th>yr</th>\n",
       "      <th>mnth</th>\n",
       "      <th>holiday</th>\n",
       "      <th>weekday</th>\n",
       "      <th>workingday</th>\n",
       "      <th>weathersit</th>\n",
       "      <th>temp</th>\n",
       "      <th>atemp</th>\n",
       "      <th>hum</th>\n",
       "      <th>windspeed</th>\n",
       "      <th>casual</th>\n",
       "      <th>registered</th>\n",
       "      <th>cnt</th>\n",
       "    </tr>\n",
       "  </thead>\n",
       "  <tbody>\n",
       "    <tr>\n",
       "      <th>0</th>\n",
       "      <td>1</td>\n",
       "      <td>1/1/2011</td>\n",
       "      <td>1</td>\n",
       "      <td>0</td>\n",
       "      <td>1</td>\n",
       "      <td>0</td>\n",
       "      <td>6</td>\n",
       "      <td>0</td>\n",
       "      <td>2</td>\n",
       "      <td>0.344167</td>\n",
       "      <td>0.363625</td>\n",
       "      <td>0.805833</td>\n",
       "      <td>0.160446</td>\n",
       "      <td>331</td>\n",
       "      <td>654</td>\n",
       "      <td>985</td>\n",
       "    </tr>\n",
       "    <tr>\n",
       "      <th>1</th>\n",
       "      <td>2</td>\n",
       "      <td>1/2/2011</td>\n",
       "      <td>1</td>\n",
       "      <td>0</td>\n",
       "      <td>1</td>\n",
       "      <td>0</td>\n",
       "      <td>0</td>\n",
       "      <td>0</td>\n",
       "      <td>2</td>\n",
       "      <td>0.363478</td>\n",
       "      <td>0.353739</td>\n",
       "      <td>0.696087</td>\n",
       "      <td>0.248539</td>\n",
       "      <td>131</td>\n",
       "      <td>670</td>\n",
       "      <td>801</td>\n",
       "    </tr>\n",
       "    <tr>\n",
       "      <th>2</th>\n",
       "      <td>3</td>\n",
       "      <td>1/3/2011</td>\n",
       "      <td>1</td>\n",
       "      <td>0</td>\n",
       "      <td>1</td>\n",
       "      <td>0</td>\n",
       "      <td>1</td>\n",
       "      <td>1</td>\n",
       "      <td>1</td>\n",
       "      <td>0.196364</td>\n",
       "      <td>0.189405</td>\n",
       "      <td>0.437273</td>\n",
       "      <td>0.248309</td>\n",
       "      <td>120</td>\n",
       "      <td>1229</td>\n",
       "      <td>1349</td>\n",
       "    </tr>\n",
       "    <tr>\n",
       "      <th>3</th>\n",
       "      <td>4</td>\n",
       "      <td>1/4/2011</td>\n",
       "      <td>1</td>\n",
       "      <td>0</td>\n",
       "      <td>1</td>\n",
       "      <td>0</td>\n",
       "      <td>2</td>\n",
       "      <td>1</td>\n",
       "      <td>1</td>\n",
       "      <td>0.200000</td>\n",
       "      <td>0.212122</td>\n",
       "      <td>0.590435</td>\n",
       "      <td>0.160296</td>\n",
       "      <td>108</td>\n",
       "      <td>1454</td>\n",
       "      <td>1562</td>\n",
       "    </tr>\n",
       "    <tr>\n",
       "      <th>4</th>\n",
       "      <td>5</td>\n",
       "      <td>1/5/2011</td>\n",
       "      <td>1</td>\n",
       "      <td>0</td>\n",
       "      <td>1</td>\n",
       "      <td>0</td>\n",
       "      <td>3</td>\n",
       "      <td>1</td>\n",
       "      <td>1</td>\n",
       "      <td>0.226957</td>\n",
       "      <td>0.229270</td>\n",
       "      <td>0.436957</td>\n",
       "      <td>0.186900</td>\n",
       "      <td>82</td>\n",
       "      <td>1518</td>\n",
       "      <td>1600</td>\n",
       "    </tr>\n",
       "  </tbody>\n",
       "</table>\n",
       "</div>"
      ],
      "text/plain": [
       "   instant    dteday  season  yr  mnth  holiday  weekday  workingday  \\\n",
       "0        1  1/1/2011       1   0     1        0        6           0   \n",
       "1        2  1/2/2011       1   0     1        0        0           0   \n",
       "2        3  1/3/2011       1   0     1        0        1           1   \n",
       "3        4  1/4/2011       1   0     1        0        2           1   \n",
       "4        5  1/5/2011       1   0     1        0        3           1   \n",
       "\n",
       "   weathersit      temp     atemp       hum  windspeed  casual  registered  \\\n",
       "0           2  0.344167  0.363625  0.805833   0.160446     331         654   \n",
       "1           2  0.363478  0.353739  0.696087   0.248539     131         670   \n",
       "2           1  0.196364  0.189405  0.437273   0.248309     120        1229   \n",
       "3           1  0.200000  0.212122  0.590435   0.160296     108        1454   \n",
       "4           1  0.226957  0.229270  0.436957   0.186900      82        1518   \n",
       "\n",
       "    cnt  \n",
       "0   985  \n",
       "1   801  \n",
       "2  1349  \n",
       "3  1562  \n",
       "4  1600  "
      ]
     },
     "execution_count": 23,
     "metadata": {},
     "output_type": "execute_result"
    }
   ],
   "source": [
    "day_df=pd.read_csv(\"https://raw.githubusercontent.com/chalistadiviaa10/Analisis_Data_Sepeda/main/data/day.csv\")\n",
    "day_df.head()"
   ]
  },
  {
   "cell_type": "code",
   "execution_count": 24,
   "metadata": {},
   "outputs": [
    {
     "data": {
      "text/html": [
       "<div>\n",
       "<style scoped>\n",
       "    .dataframe tbody tr th:only-of-type {\n",
       "        vertical-align: middle;\n",
       "    }\n",
       "\n",
       "    .dataframe tbody tr th {\n",
       "        vertical-align: top;\n",
       "    }\n",
       "\n",
       "    .dataframe thead th {\n",
       "        text-align: right;\n",
       "    }\n",
       "</style>\n",
       "<table border=\"1\" class=\"dataframe\">\n",
       "  <thead>\n",
       "    <tr style=\"text-align: right;\">\n",
       "      <th></th>\n",
       "      <th>instant</th>\n",
       "      <th>dteday</th>\n",
       "      <th>season</th>\n",
       "      <th>yr</th>\n",
       "      <th>mnth</th>\n",
       "      <th>hr</th>\n",
       "      <th>holiday</th>\n",
       "      <th>weekday</th>\n",
       "      <th>workingday</th>\n",
       "      <th>weathersit</th>\n",
       "      <th>temp</th>\n",
       "      <th>atemp</th>\n",
       "      <th>hum</th>\n",
       "      <th>windspeed</th>\n",
       "      <th>casual</th>\n",
       "      <th>registered</th>\n",
       "      <th>cnt</th>\n",
       "    </tr>\n",
       "  </thead>\n",
       "  <tbody>\n",
       "    <tr>\n",
       "      <th>0</th>\n",
       "      <td>1</td>\n",
       "      <td>1/1/2011</td>\n",
       "      <td>1</td>\n",
       "      <td>0</td>\n",
       "      <td>1</td>\n",
       "      <td>0</td>\n",
       "      <td>0</td>\n",
       "      <td>6</td>\n",
       "      <td>0</td>\n",
       "      <td>1</td>\n",
       "      <td>0.24</td>\n",
       "      <td>0.2879</td>\n",
       "      <td>0.81</td>\n",
       "      <td>0.0</td>\n",
       "      <td>3</td>\n",
       "      <td>13</td>\n",
       "      <td>16</td>\n",
       "    </tr>\n",
       "    <tr>\n",
       "      <th>1</th>\n",
       "      <td>2</td>\n",
       "      <td>1/1/2011</td>\n",
       "      <td>1</td>\n",
       "      <td>0</td>\n",
       "      <td>1</td>\n",
       "      <td>1</td>\n",
       "      <td>0</td>\n",
       "      <td>6</td>\n",
       "      <td>0</td>\n",
       "      <td>1</td>\n",
       "      <td>0.22</td>\n",
       "      <td>0.2727</td>\n",
       "      <td>0.80</td>\n",
       "      <td>0.0</td>\n",
       "      <td>8</td>\n",
       "      <td>32</td>\n",
       "      <td>40</td>\n",
       "    </tr>\n",
       "    <tr>\n",
       "      <th>2</th>\n",
       "      <td>3</td>\n",
       "      <td>1/1/2011</td>\n",
       "      <td>1</td>\n",
       "      <td>0</td>\n",
       "      <td>1</td>\n",
       "      <td>2</td>\n",
       "      <td>0</td>\n",
       "      <td>6</td>\n",
       "      <td>0</td>\n",
       "      <td>1</td>\n",
       "      <td>0.22</td>\n",
       "      <td>0.2727</td>\n",
       "      <td>0.80</td>\n",
       "      <td>0.0</td>\n",
       "      <td>5</td>\n",
       "      <td>27</td>\n",
       "      <td>32</td>\n",
       "    </tr>\n",
       "    <tr>\n",
       "      <th>3</th>\n",
       "      <td>4</td>\n",
       "      <td>1/1/2011</td>\n",
       "      <td>1</td>\n",
       "      <td>0</td>\n",
       "      <td>1</td>\n",
       "      <td>3</td>\n",
       "      <td>0</td>\n",
       "      <td>6</td>\n",
       "      <td>0</td>\n",
       "      <td>1</td>\n",
       "      <td>0.24</td>\n",
       "      <td>0.2879</td>\n",
       "      <td>0.75</td>\n",
       "      <td>0.0</td>\n",
       "      <td>3</td>\n",
       "      <td>10</td>\n",
       "      <td>13</td>\n",
       "    </tr>\n",
       "    <tr>\n",
       "      <th>4</th>\n",
       "      <td>5</td>\n",
       "      <td>1/1/2011</td>\n",
       "      <td>1</td>\n",
       "      <td>0</td>\n",
       "      <td>1</td>\n",
       "      <td>4</td>\n",
       "      <td>0</td>\n",
       "      <td>6</td>\n",
       "      <td>0</td>\n",
       "      <td>1</td>\n",
       "      <td>0.24</td>\n",
       "      <td>0.2879</td>\n",
       "      <td>0.75</td>\n",
       "      <td>0.0</td>\n",
       "      <td>0</td>\n",
       "      <td>1</td>\n",
       "      <td>1</td>\n",
       "    </tr>\n",
       "  </tbody>\n",
       "</table>\n",
       "</div>"
      ],
      "text/plain": [
       "   instant    dteday  season  yr  mnth  hr  holiday  weekday  workingday  \\\n",
       "0        1  1/1/2011       1   0     1   0        0        6           0   \n",
       "1        2  1/1/2011       1   0     1   1        0        6           0   \n",
       "2        3  1/1/2011       1   0     1   2        0        6           0   \n",
       "3        4  1/1/2011       1   0     1   3        0        6           0   \n",
       "4        5  1/1/2011       1   0     1   4        0        6           0   \n",
       "\n",
       "   weathersit  temp   atemp   hum  windspeed  casual  registered  cnt  \n",
       "0           1  0.24  0.2879  0.81        0.0       3          13   16  \n",
       "1           1  0.22  0.2727  0.80        0.0       8          32   40  \n",
       "2           1  0.22  0.2727  0.80        0.0       5          27   32  \n",
       "3           1  0.24  0.2879  0.75        0.0       3          10   13  \n",
       "4           1  0.24  0.2879  0.75        0.0       0           1    1  "
      ]
     },
     "execution_count": 24,
     "metadata": {},
     "output_type": "execute_result"
    }
   ],
   "source": [
    "hour_df=pd.read_csv(\"https://raw.githubusercontent.com/chalistadiviaa10/Analisis_Data_Sepeda/main/data/hour.csv\")\n",
    "hour_df.head()"
   ]
  },
  {
   "cell_type": "markdown",
   "metadata": {
    "id": "MMi6xGaDkbCi"
   },
   "source": [
    "**Insight:**\n",
    "- Dataset day_df dan hour_df menyediakan informasi penyewaan sepeda pada tingkat harian dan per jam, memungkinkan analisis yang lebih mendalam tentang pola penggunaan.\n",
    "- Kolom seperti season, holiday, dan weekday pada dataset day_df, serta dteday di kedua dataset, memberikan wawasan tentang faktor-faktor yang memengaruhi penyewaan sepeda.\n",
    "- Sebelum analisis lebih lanjut, perlu dilakukan pemeriksaan untuk nilai yang hilang dan memastikan data bersih."
   ]
  },
  {
   "cell_type": "markdown",
   "metadata": {
    "id": "FHSiqaZp8DC1"
   },
   "source": [
    "### Assessing Data"
   ]
  },
  {
   "cell_type": "code",
   "execution_count": 25,
   "metadata": {
    "id": "ax-3tEjc9Cj1"
   },
   "outputs": [
    {
     "name": "stdout",
     "output_type": "stream",
     "text": [
      "Missing Values:\n",
      " instant       0\n",
      "dteday        0\n",
      "season        0\n",
      "yr            0\n",
      "mnth          0\n",
      "holiday       0\n",
      "weekday       0\n",
      "workingday    0\n",
      "weathersit    0\n",
      "temp          0\n",
      "atemp         0\n",
      "hum           0\n",
      "windspeed     0\n",
      "casual        0\n",
      "registered    0\n",
      "cnt           0\n",
      "dtype: int64\n",
      "Jumlah baris duplikat: 0\n",
      "Nilai Invalid:\n",
      " Empty DataFrame\n",
      "Columns: [instant, dteday, season, yr, mnth, holiday, weekday, workingday, weathersit, temp, atemp, hum, windspeed, casual, registered, cnt]\n",
      "Index: []\n",
      "Nilai Tidak Akurat:\n",
      " Empty DataFrame\n",
      "Columns: [instant, dteday, season, yr, mnth, holiday, weekday, workingday, weathersit, temp, atemp, hum, windspeed, casual, registered, cnt]\n",
      "Index: []\n",
      "Nilai Tidak Konsisten:\n",
      " Empty DataFrame\n",
      "Columns: [instant, dteday, season, yr, mnth, holiday, weekday, workingday, weathersit, temp, atemp, hum, windspeed, casual, registered, cnt]\n",
      "Index: []\n",
      "Outliers:\n",
      " Empty DataFrame\n",
      "Columns: [instant, dteday, season, yr, mnth, holiday, weekday, workingday, weathersit, temp, atemp, hum, windspeed, casual, registered, cnt]\n",
      "Index: []\n"
     ]
    }
   ],
   "source": [
    "missing_values = day_df.isna().sum()\n",
    "print(\"Missing Values:\\n\", missing_values)\n",
    "\n",
    "duplicates = day_df.duplicated().sum()\n",
    "print(f\"Jumlah baris duplikat: {duplicates}\")\n",
    "\n",
    "invalid_values = day_df[day_df['cnt'] < 0]  \n",
    "print(\"Nilai Invalid:\\n\", invalid_values)\n",
    "\n",
    "inaccurate_values = day_df[(day_df['temp'] < 0) | (day_df['temp'] > 1)]\n",
    "print(\"Nilai Tidak Akurat:\\n\", inaccurate_values)\n",
    "\n",
    "inconsistent_values = day_df[~day_df['season'].isin([1, 2, 3, 4])]\n",
    "print(\"Nilai Tidak Konsisten:\\n\", inconsistent_values)\n",
    "\n",
    "Q1 = day_df['cnt'].quantile(0.25)\n",
    "Q3 = day_df['cnt'].quantile(0.75)\n",
    "IQR = Q3 - Q1\n",
    "outlier_condition = (day_df['cnt'] < (Q1 - 1.5 * IQR)) | (day_df['cnt'] > (Q3 + 1.5 * IQR))\n",
    "outliers = day_df[outlier_condition]\n",
    "print(\"Outliers:\\n\", outliers)"
   ]
  },
  {
   "cell_type": "code",
   "execution_count": 26,
   "metadata": {},
   "outputs": [
    {
     "name": "stdout",
     "output_type": "stream",
     "text": [
      "Missing Values:\n",
      " instant       0\n",
      "dteday        0\n",
      "season        0\n",
      "yr            0\n",
      "mnth          0\n",
      "hr            0\n",
      "holiday       0\n",
      "weekday       0\n",
      "workingday    0\n",
      "weathersit    0\n",
      "temp          0\n",
      "atemp         0\n",
      "hum           0\n",
      "windspeed     0\n",
      "casual        0\n",
      "registered    0\n",
      "cnt           0\n",
      "dtype: int64\n",
      "Jumlah baris duplikat: 0\n",
      "Nilai Invalid:\n",
      " Empty DataFrame\n",
      "Columns: [instant, dteday, season, yr, mnth, hr, holiday, weekday, workingday, weathersit, temp, atemp, hum, windspeed, casual, registered, cnt]\n",
      "Index: []\n",
      "Nilai Tidak Akurat:\n",
      " Empty DataFrame\n",
      "Columns: [instant, dteday, season, yr, mnth, hr, holiday, weekday, workingday, weathersit, temp, atemp, hum, windspeed, casual, registered, cnt]\n",
      "Index: []\n",
      "Nilai Tidak Konsisten:\n",
      " Empty DataFrame\n",
      "Columns: [instant, dteday, season, yr, mnth, hr, holiday, weekday, workingday, weathersit, temp, atemp, hum, windspeed, casual, registered, cnt]\n",
      "Index: []\n",
      "Outliers:\n",
      "        instant      dteday  season  yr  mnth  hr  holiday  weekday  \\\n",
      "5536      5537   8/23/2011       3   0     8  14        0        2   \n",
      "10358    10359   3/12/2012       1   1     3  17        0        1   \n",
      "10359    10360   3/12/2012       1   1     3  18        0        1   \n",
      "10382    10383   3/13/2012       1   1     3  17        0        2   \n",
      "10383    10384   3/13/2012       1   1     3  18        0        2   \n",
      "...        ...         ...     ...  ..   ...  ..      ...      ...   \n",
      "16885    16886  12/11/2012       4   1    12   8        0        2   \n",
      "16909    16910  12/12/2012       4   1    12   8        0        3   \n",
      "16933    16934  12/13/2012       4   1    12   8        0        4   \n",
      "17053    17054  12/18/2012       4   1    12   8        0        2   \n",
      "17077    17078  12/19/2012       4   1    12   8        0        3   \n",
      "\n",
      "       workingday  weathersit  temp   atemp   hum  windspeed  casual  \\\n",
      "5536            1           1  0.72  0.6515  0.30     0.0896     149   \n",
      "10358           1           2  0.62  0.6212  0.38     0.4179      87   \n",
      "10359           1           2  0.60  0.6212  0.43     0.1940      89   \n",
      "10382           1           1  0.70  0.6364  0.37     0.1045      62   \n",
      "10383           1           1  0.70  0.6364  0.34     0.2985      96   \n",
      "...           ...         ...   ...     ...   ...        ...     ...   \n",
      "16885           1           2  0.34  0.3030  0.61     0.2985      16   \n",
      "16909           1           2  0.26  0.2576  0.65     0.1642      18   \n",
      "16933           1           1  0.24  0.2273  0.60     0.1940      24   \n",
      "17053           1           1  0.38  0.3939  0.94     0.0000      10   \n",
      "17077           1           1  0.24  0.2576  0.87     0.1045      13   \n",
      "\n",
      "       registered  cnt  \n",
      "5536          502  651  \n",
      "10358         557  644  \n",
      "10359         623  712  \n",
      "10382         614  676  \n",
      "10383         638  734  \n",
      "...           ...  ...  \n",
      "16885         708  724  \n",
      "16909         670  688  \n",
      "16933         655  679  \n",
      "17053         652  662  \n",
      "17077         665  678  \n",
      "\n",
      "[505 rows x 17 columns]\n"
     ]
    }
   ],
   "source": [
    "missing_values = hour_df.isna().sum()\n",
    "print(\"Missing Values:\\n\", missing_values)\n",
    "\n",
    "duplicates = hour_df.duplicated().sum()\n",
    "print(f\"Jumlah baris duplikat: {duplicates}\")\n",
    "\n",
    "invalid_values = hour_df[hour_df['cnt'] < 0]  \n",
    "print(\"Nilai Invalid:\\n\", invalid_values)\n",
    "\n",
    "inaccurate_values = hour_df[(hour_df['temp'] < 0) | (hour_df['temp'] > 1)]\n",
    "print(\"Nilai Tidak Akurat:\\n\", inaccurate_values)\n",
    "\n",
    "inconsistent_values = hour_df[~hour_df['season'].isin([1, 2, 3, 4])]\n",
    "print(\"Nilai Tidak Konsisten:\\n\", inconsistent_values)\n",
    "\n",
    "Q1 = hour_df['cnt'].quantile(0.25)\n",
    "Q3 = hour_df['cnt'].quantile(0.75)\n",
    "IQR = Q3 - Q1\n",
    "outlier_condition = (hour_df['cnt'] < (Q1 - 1.5 * IQR)) | (hour_df['cnt'] > (Q3 + 1.5 * IQR))\n",
    "outliers = hour_df[outlier_condition]\n",
    "print(\"Outliers:\\n\", outliers)"
   ]
  },
  {
   "cell_type": "markdown",
   "metadata": {
    "id": "7dtxhAPrkhPL"
   },
   "source": [
    "**Insight:**\n",
    "- Pada dataset day_df dan hour_df semua kolomnya tidak memiliki nilai yang hilang, nilai yang invalid, nilai yang tidak konsisten, maupun nilai yang tidak akurat. Ini menunjukkan bahwa data siap untuk dianalisis tanpa perlu penanganan nilai hilang.\n",
    "- Tidak adanya duplikasi dalam kedua dataset menunjukkan bahwa data yang tersedia unik dan konsisten.\n",
    "- Berdasarkan output 'Empty DataFrame' untuk outliers pada dataset day_df, distribusi data dalam kolom cnt mungkin tidak memiliki nilai yang ekstrem sehingga semua nilai berada dalam rentang yang diharapkan.\n",
    "- Sementara itu, berdasarkan output pada dataset hour_df, data ini memiliki outliers yang berarti distribusinya cenderung tidak normal. Output ini menunjukkan adanya nilai ekstrem yang dapat mempengaruhi analisis secara signifikan."
   ]
  },
  {
   "cell_type": "markdown",
   "metadata": {
    "id": "EhN5R4hr8DC1"
   },
   "source": [
    "### Cleaning Data"
   ]
  },
  {
   "cell_type": "code",
   "execution_count": 27,
   "metadata": {
    "id": "jVnYpprE9Evz"
   },
   "outputs": [
    {
     "name": "stdout",
     "output_type": "stream",
     "text": [
      "Dataset setelah drop outliers:\n",
      "        instant      dteday  season  yr  mnth  hr  holiday  weekday  \\\n",
      "0            1    1/1/2011       1   0     1   0        0        6   \n",
      "1            2    1/1/2011       1   0     1   1        0        6   \n",
      "2            3    1/1/2011       1   0     1   2        0        6   \n",
      "3            4    1/1/2011       1   0     1   3        0        6   \n",
      "4            5    1/1/2011       1   0     1   4        0        6   \n",
      "...        ...         ...     ...  ..   ...  ..      ...      ...   \n",
      "17374    17375  12/31/2012       1   1    12  19        0        1   \n",
      "17375    17376  12/31/2012       1   1    12  20        0        1   \n",
      "17376    17377  12/31/2012       1   1    12  21        0        1   \n",
      "17377    17378  12/31/2012       1   1    12  22        0        1   \n",
      "17378    17379  12/31/2012       1   1    12  23        0        1   \n",
      "\n",
      "       workingday  weathersit  temp   atemp   hum  windspeed  casual  \\\n",
      "0               0           1  0.24  0.2879  0.81     0.0000       3   \n",
      "1               0           1  0.22  0.2727  0.80     0.0000       8   \n",
      "2               0           1  0.22  0.2727  0.80     0.0000       5   \n",
      "3               0           1  0.24  0.2879  0.75     0.0000       3   \n",
      "4               0           1  0.24  0.2879  0.75     0.0000       0   \n",
      "...           ...         ...   ...     ...   ...        ...     ...   \n",
      "17374           1           2  0.26  0.2576  0.60     0.1642      11   \n",
      "17375           1           2  0.26  0.2576  0.60     0.1642       8   \n",
      "17376           1           1  0.26  0.2576  0.60     0.1642       7   \n",
      "17377           1           1  0.26  0.2727  0.56     0.1343      13   \n",
      "17378           1           1  0.26  0.2727  0.65     0.1343      12   \n",
      "\n",
      "       registered  cnt  \n",
      "0              13   16  \n",
      "1              32   40  \n",
      "2              27   32  \n",
      "3              10   13  \n",
      "4               1    1  \n",
      "...           ...  ...  \n",
      "17374         108  119  \n",
      "17375          81   89  \n",
      "17376          83   90  \n",
      "17377          48   61  \n",
      "17378          37   49  \n",
      "\n",
      "[16874 rows x 17 columns]\n",
      "Jumlah baris sebelum menghapus outliers: 17379\n"
     ]
    }
   ],
   "source": [
    "#Mengatasi outliers pada dataset hour_df dengan metode drop\n",
    "Q1 = hour_df['cnt'].quantile(0.25)\n",
    "Q3 = hour_df['cnt'].quantile(0.75)\n",
    "IQR = Q3 - Q1\n",
    "\n",
    "maximum = Q3 + (1.5 * IQR)\n",
    "minimum = Q1 - (1.5 * IQR)\n",
    "\n",
    "kondisi_lower_than = hour_df['cnt'] < minimum\n",
    "kondisi_more_than = hour_df['cnt'] > maximum\n",
    "\n",
    "hour_df_dropped = hour_df.drop(hour_df[kondisi_lower_than].index)\n",
    "hour_df_dropped = hour_df_dropped.drop(hour_df_dropped[kondisi_more_than].index)\n",
    "print(\"Dataset setelah drop outliers:\\n\", hour_df_dropped)\n",
    "jumlah_baris_sebelum = len(hour_df)\n",
    "print(f\"Jumlah baris sebelum menghapus outliers: {jumlah_baris_sebelum}\")"
   ]
  },
  {
   "cell_type": "markdown",
   "metadata": {
    "id": "Q_5ejIqckiSP"
   },
   "source": [
    "**Insight:**\n",
    "- Setelah menghapus outliers, dataset mengalami pengurangan yang sangat kecil, dari 17.379 baris menjadi 16.874 baris. Ini artinya outliers yang terdeteksi tidak banyak mempengaruhi keseluruhan dataset dan data yang ada cukup konsisten.\n",
    "- Dengan menghapus outliers, nilai dalam kolom cnt (jumlah) menjadi lebih stabil dan realistis sehingga memungkinkan analisis yang lebih akurat.\n",
    "- Penghapusan outliers juga memungkinkan variabel lain seperti temp, humidity, dan windspeed memiliki distribusi yang lebih normal."
   ]
  },
  {
   "cell_type": "markdown",
   "metadata": {
    "id": "gp-Y6wU38DC1"
   },
   "source": [
    "## Exploratory Data Analysis (EDA)"
   ]
  },
  {
   "cell_type": "markdown",
   "metadata": {
    "id": "MW7WF2kr8DC1"
   },
   "source": [
    "### Explore hour_df & day_df"
   ]
  },
  {
   "cell_type": "code",
   "execution_count": 28,
   "metadata": {
    "id": "e9CQCZjk8DC2",
    "scrolled": true
   },
   "outputs": [
    {
     "name": "stdout",
     "output_type": "stream",
     "text": [
      "Jam puncak penyewaan sepeda setiap hari:\n",
      "     day_of_week  hour    cnt  max_cnt\n",
      "17       Friday    17  51211    51211\n",
      "41       Monday    17  52249    52249\n",
      "61     Saturday    13  40464    40464\n",
      "85       Sunday    13  39368    39368\n",
      "113    Thursday    17  54844    54844\n",
      "137     Tuesday    17  56605    56605\n",
      "161   Wednesday    17  53367    53367\n",
      "Persentase rata-rata penyewaan antara hari libur dan hari kerja (2011):\n",
      "    holiday  workingday  average_cnt  percentage\n",
      "0        0           0  3398.257143   34.586053\n",
      "1        0           1  3425.056000   34.858800\n",
      "2        1           0  3002.200000   30.555147\n"
     ]
    }
   ],
   "source": [
    "# 1. Dalam kurun waktu satu minggu, pada jam berapa penyewaan sepeda mencapai puncaknya setiap hari?\n",
    "hour_df['dteday'] = pd.to_datetime(hour_df['dteday'])\n",
    "hour_df['day_of_week'] = hour_df['dteday'].dt.day_name()\n",
    "hour_df['hour'] = hour_df['hr']\n",
    "peak_hours = hour_df.groupby(['day_of_week', 'hour'])['cnt'].sum().reset_index()\n",
    "peak_hours['max_cnt'] = peak_hours.groupby('day_of_week')['cnt'].transform('max') \n",
    "peak_peak_hours = peak_hours[peak_hours['cnt'] == peak_hours['max_cnt']]\n",
    "print(\"Jam puncak penyewaan sepeda setiap hari:\\n\", peak_peak_hours)\n",
    "\n",
    "# 2. Persentase rata-rata penyewaan antara hari libur dan hari kerja pada tahun 2011\n",
    "day_df['dteday'] = pd.to_datetime(day_df['dteday'])\n",
    "day_df['year'] = day_df['dteday'].dt.year\n",
    "day_df_2011 = day_df[day_df['year'] == 2011]\n",
    "avg_rentals = day_df_2011.groupby(['holiday', 'workingday'])['cnt'].mean().reset_index()\n",
    "avg_rentals.columns = ['holiday', 'workingday', 'average_cnt']\n",
    "total_average = avg_rentals['average_cnt'].sum()\n",
    "avg_rentals['percentage'] = (avg_rentals['average_cnt'] / total_average) * 100\n",
    "print(\"Persentase rata-rata penyewaan antara hari libur dan hari kerja (2011):\\n\", avg_rentals)\n",
    "\n",
    "# 3. Apa pola musiman dalam penggunaan sepeda selama tahun 2012 dan bagaimana faktor cuaca serta acara khusus berpengaruh terhadap tren penggunaan tersebut?\n",
    "day_df['dteday'] = pd.to_datetime(day_df['dteday'])\n",
    "day_df_2012 = day_df[day_df['dteday'].dt.year == 2012]\n",
    "seasonal_rentals = day_df_2012.groupby('season')['cnt'].mean()"
   ]
  },
  {
   "cell_type": "markdown",
   "metadata": {
    "id": "th_Lzl2Fkj9O"
   },
   "source": [
    "**Insight:**\n",
    "- Dari analisis waktu penyewaan sepeda, terlihat pola penggunaan yang berbeda pada jam-jam tertentu. Penyewaan puncak biasanya terjadi di jam-jam sibuk, seperti pagi dan sore hari, bertepatan dengan waktu kerja. Informasi ini dapat digunakan untuk merencanakan penempatan sepeda lebih baik di lokasi-lokasi tertentu pada jam-jam sibuk, serta untuk meningkatkan ketersediaan sepeda saat permintaan tinggi. \n",
    "- Rata-rata penyewaan sepeda per hari menunjukkan perbedaan signifikan antara hari kerja dan hari libur. Penyewaan cenderung lebih tinggi pada hari kerja, mungkin karena sepeda digunakan untuk mobilitas sehari-hari.\n",
    "- Pengelompokan berdasarkan musim menunjukkan bahwa faktor musiman berpengaruh signifikan terhadap jumlah penyewaan."
   ]
  },
  {
   "cell_type": "markdown",
   "metadata": {
    "id": "zsyZjqak8DC2"
   },
   "source": [
    "## Visualization & Explanatory Analysis"
   ]
  },
  {
   "cell_type": "markdown",
   "metadata": {
    "id": "HZxOiQ6n8DC2"
   },
   "source": [
    "### Pertanyaan 1: Dalam kurun waktu satu minggu, pada jam berapa penyewaan sepeda mencapai puncaknya setiap hari?"
   ]
  },
  {
   "cell_type": "code",
   "execution_count": 29,
   "metadata": {},
   "outputs": [
    {
     "data": {
      "image/png": "[encoded data removed]",
      "text/plain": [
       "<Figure size 1200x600 with 1 Axes>"
      ]
     },
     "metadata": {},
     "output_type": "display_data"
    }
   ],
   "source": [
    "plt.figure(figsize=(12, 6))\n",
    "sns.barplot(data=peak_peak_hours, x='hour', y='cnt', hue='day_of_week', palette='viridis')\n",
    "plt.title('Jam Puncak Penyewaan Sepeda Setiap Hari')\n",
    "plt.xlabel('Jam')\n",
    "plt.ylabel('Jumlah Penyewaan')\n",
    "plt.xticks(rotation=45)\n",
    "plt.legend(title='Hari dalam Seminggu')\n",
    "plt.tight_layout()\n",
    "plt.show()"
   ]
  },
  {
   "cell_type": "markdown",
   "metadata": {
    "id": "DgHI7CiU8DC2"
   },
   "source": [
    "### Pertanyaan 2: Berapa persentase perbandingan rata-rata jumlah penyewaan sepeda antara hari libur dan hari kerja pada tahun 2011?"
   ]
  },
  {
   "cell_type": "code",
   "execution_count": 30,
   "metadata": {},
   "outputs": [
    {
     "data": {
      "image/png": "[encoded data removed]",
      "text/plain": [
       "<Figure size 800x600 with 1 Axes>"
      ]
     },
     "metadata": {},
     "output_type": "display_data"
    }
   ],
   "source": [
    "labels = ['Hari Kerja', 'Hari Libur']\n",
    "sizes = [avg_rentals[avg_rentals['holiday'] == 0]['average_cnt'].mean(),\n",
    "         avg_rentals[avg_rentals['holiday'] == 1]['average_cnt'].mean()]  \n",
    "colors = ['#ff9999', '#66b3ff']\n",
    "explode = (0.1, 0) \n",
    "\n",
    "plt.figure(figsize=(8, 6))\n",
    "plt.pie(sizes, explode=explode, labels=labels, colors=colors, autopct='%1.1f%%', shadow=True, startangle=90)\n",
    "plt.axis('equal') \n",
    "plt.title('Perbandingan Rata-rata Penyewaan Sepeda antara Hari Libur dan Hari Kerja (2011)')\n",
    "plt.show()"
   ]
  },
  {
   "cell_type": "markdown",
   "metadata": {},
   "source": [
    "### Pertanyaan 3: Apa pola musiman dalam penggunaan sepeda selama tahun 2012 dan bagaimana faktor cuaca berpengaruh terhadap tren penggunaan tersebut?"
   ]
  },
  {
   "cell_type": "code",
   "execution_count": 31,
   "metadata": {},
   "outputs": [
    {
     "data": {
      "image/png": "[encoded data removed]",
      "text/plain": [
       "<Figure size 800x500 with 1 Axes>"
      ]
     },
     "metadata": {},
     "output_type": "display_data"
    }
   ],
   "source": [
    "plt.figure(figsize=(8, 5))\n",
    "seasonal_rentals.plot(kind='line', marker='o', color='purple')\n",
    "plt.title('Pola Musiman Penyewaan Sepeda Selama Tahun 2012')\n",
    "plt.ylabel('Rata-rata Penyewaan')\n",
    "plt.xticks(ticks=[1, 2, 3, 4], labels=['Musim Semi', 'Musim Panas', 'Musim Gugur', 'Musim Dingin'], rotation=0)\n",
    "\n",
    "plt.grid() \n",
    "plt.tight_layout() \n",
    "plt.show()"
   ]
  },
  {
   "cell_type": "markdown",
   "metadata": {
    "id": "_0-36BDLklRg"
   },
   "source": [
    "**Insight:**\n",
    "- Grafik pertanyaan 1 menunjukkan bahwa jumlah penyewaan sepeda paling tinggi terjadi pada hari kerja, khususnya pada hari Selasa, Rabu, dan Kamis pada jam pulang kerja di atas jam 5 sore. Ini memberikan peluang untuk mengembangkan program loyalitas atau promosi khusus selama hari kerja, serta meningkatkan ketersediaan sepeda di lokasi-lokasi yang sering digunakan untuk mobilitas.\n",
    "- Hasil visualisasi pertanyaan 2 menunjukkan bahwa proporsi penggunaan sepeda lebih tinggi pada hari kerja (53.2%) dibandingkan dengan hari libur (46.8%). Ini mengindikasikan bahwa sepeda digunakan sebagai alat transportasi utama untuk aktivitas sehari-hari, seperti pergi ke tempat kerja, daripada hanya untuk rekreasi di hari libur. Strategi pemasaran yang bisa dilakukan salah satunya adalah menjalin kemitraan dengan perusahaan lokal untuk menyediakan program penyewaan sepeda bagi karyawan.\n",
    "- Grafik menunjukkan bahwa penyewaan sepeda mencapai puncaknya pada musim semi dan musim panas, sementara jumlah penyewaan menurun signifikan pada musim gugur dan musim dingin. Ini menunjukkan bahwa cuaca yang lebih hangat berkontribusi besar terhadap peningkatan penggunaan sepeda. Strategi pemasaran yang bisa dilakukan adalah perusahaan dapat merancang kampanye promosi khusus selama musim semi dan musim panas untuk menarik lebih banyak penyewa, serta mempertimbangkan penawaran yang lebih menarik di musim gugur dan musim dingin untuk menjaga minat pelanggan."
   ]
  },
  {
   "cell_type": "markdown",
   "metadata": {
    "id": "9y4VUsmcYNZ5"
   },
   "source": [
    "## Analisis Lanjutan (Opsional)"
   ]
  },
  {
   "cell_type": "code",
   "execution_count": 32,
   "metadata": {
    "id": "iWhnzsJGYUCO"
   },
   "outputs": [],
   "source": [
    "all_df = pd.merge(hour_df, day_df, on='instant', how='inner')\n",
    "all_df.to_csv(\"all_data.csv\", index=False)"
   ]
  },
  {
   "cell_type": "markdown",
   "metadata": {
    "id": "_WeHlCeX8DC2"
   },
   "source": [
    "## Conclusion"
   ]
  },
  {
   "cell_type": "markdown",
   "metadata": {
    "id": "ZTcyR48Y8DC2"
   },
   "source": [
    "- Analisis waktu penyewaan sepeda menunjukkan adanya pola penggunaan yang jelas, dengan puncak penyewaan terjadi pada jam-jam sibuk, terutama pada pagi dan sore hari. Ini menunjukkan bahwa sepeda banyak digunakan untuk mobilitas sehari-hari, terutama pada hari kerja. Hari Selasa, Rabu, dan Kamis menjadi hari dengan jumlah penyewaan tertinggi, terutama setelah jam 5 sore. Oleh karena itu, perusahaan dapat memanfaatkan informasi ini untuk merencanakan penempatan sepeda di lokasi-lokasi strategis pada jam-jam sibuk, serta meningkatkan ketersediaan sepeda untuk memenuhi permintaan yang tinggi. Selain itu, pengembangan program loyalitas atau promosi khusus pada hari kerja juga dapat meningkatkan minat pengguna.\n",
    "- Rata-rata penyewaan sepeda per hari menunjukkan perbedaan yang signifikan antara hari kerja dan hari libur, dengan penyewaan lebih tinggi pada hari kerja (53.2%) dibandingkan hari libur (46.8%). Hal ini mengindikasikan bahwa sepeda berfungsi sebagai alat transportasi utama untuk aktivitas sehari-hari, seperti pergi ke tempat kerja, daripada sekadar untuk rekreasi. Strategi pemasaran yang dapat diterapkan termasuk menjalin kemitraan dengan perusahaan lokal untuk menyediakan program penyewaan sepeda bagi karyawan.\n",
    "- Pengelompokan berdasarkan musim menunjukkan bahwa faktor musiman memiliki pengaruh signifikan terhadap jumlah penyewaan sepeda. Penyewaan mencapai puncaknya pada musim semi dan musim panas, sementara menurun drastis pada musim gugur dan musim dingin. Ini menandakan bahwa cuaca yang lebih hangat berkontribusi besar terhadap peningkatan penggunaan sepeda. Untuk memanfaatkan tren ini, perusahaan dapat merancang kampanye promosi khusus selama musim semi dan musim panas untuk menarik lebih banyak penyewa. Selain itu, penawaran yang lebih menarik di musim gugur dan musim dingin juga dapat dipertimbangkan untuk menjaga minat pelanggan dan mendorong penggunaan sepeda di luar musim puncak."
   ]
  }
 ],
 "metadata": {
  "colab": {
   "provenance": []
  },
  "kernelspec": {
   "display_name": "Python 3 (ipykernel)",
   "language": "python",
   "name": "python3"
  },
  "language_info": {
   "codemirror_mode": {
    "name": "ipython",
    "version": 3
   },
   "file_extension": ".py",
   "mimetype": "text/x-python",
   "name": "python",
   "nbconvert_exporter": "python",
   "pygments_lexer": "ipython3",
   "version": "3.9.13"
  },
  "vscode": {
   "interpreter": {
    "hash": "972b3bf27e332e87b5379f2791f6ef9dfc79c71018c370b0d7423235e20fe4d7"
   }
  }
 },
 "nbformat": 4,
 "nbformat_minor": 1
}
